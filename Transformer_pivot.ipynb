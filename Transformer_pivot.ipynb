{
  "cells": [
    {
      "cell_type": "markdown",
      "metadata": {
        "id": "view-in-github",
        "colab_type": "text"
      },
      "source": [
        "<a href=\"https://colab.research.google.com/github/gyasifred/msc-thesis/blob/main/Transformer_pivot.ipynb\" target=\"_parent\"><img src=\"https://colab.research.google.com/assets/colab-badge.svg\" alt=\"Open In Colab\"/></a>"
      ]
    },
    {
      "cell_type": "markdown",
      "metadata": {
        "id": "XK7C4UsTxa6F"
      },
      "source": [
        "This notebook is a simple implementation of how to get translations using  pivot machine translations of trained transformer translators."
      ]
    },
    {
      "cell_type": "markdown",
      "source": [
        "For instance pivot translation from French to Ghanaian Akan-Twi using English language as pivot langiage"
      ],
      "metadata": {
        "id": "HliNpVzq-zDp"
      }
    },
    {
      "cell_type": "markdown",
      "source": [
        "French -> English-> Akan-Twi"
      ],
      "metadata": {
        "id": "caHhxtmk_Kc0"
      }
    },
    {
      "cell_type": "code",
      "execution_count": 12,
      "metadata": {
        "id": "w7UF-8s8yihz"
      },
      "outputs": [],
      "source": [
        "\n",
        "import tensorflow as rf\n",
        "\n",
        "class TransformerPivot:\n",
        "  def __init__(self, translator_1,translator_2,translator_3):\n",
        "    self.translator_1= tf.saved_model.load(translator_1)\n",
        "    self.translator_2=tf.saved_model.load(translator_2)\n",
        "\n",
        "  #use to translate a sentence\n",
        "  def translate(self, sentence):\n",
        "    #  Translate from first language to pivot language\n",
        "    text =self.translator_1(sentence).numpy().decode(\"utf-8\")\n",
        "    # translate from pivot language to destination language\n",
        "    text = self.translator_2(text).numpy().decode(\"utf-8\")\n",
        "    return text\n",
        "  \n",
        "  #  use to translate a whole file or python list\n",
        "  def get_translations(self, file):\n",
        "    if type(file)== str:\n",
        "      # Open test file and read line \n",
        "      f = open(file, \"r\")\n",
        "      lines = f.readlines()\n",
        "      f.close()\n",
        "    elif type(file) == list:\n",
        "      lines= file\n",
        "    else:\n",
        "      print(f'File must be txt or python list')\n",
        "    translated_texts =list()\n",
        "    for line in lines:\n",
        "      translated_texts.append(self.translate(line))\n",
        "    return translated_texts"
      ]
    }
  ],
  "metadata": {
    "colab": {
      "provenance": [],
      "authorship_tag": "ABX9TyMv3m33wkI+/fYRqBu9q8PY",
      "include_colab_link": true
    },
    "kernelspec": {
      "display_name": "Python 3",
      "name": "python3"
    },
    "language_info": {
      "name": "python"
    }
  },
  "nbformat": 4,
  "nbformat_minor": 0
}